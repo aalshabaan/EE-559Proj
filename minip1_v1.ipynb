{
 "cells": [
  {
   "cell_type": "code",
   "execution_count": 2,
   "metadata": {},
   "outputs": [],
   "source": [
    "import sys\n",
    "sys.path.insert(0,'..')\n",
    "\n",
    "import torch\n",
    "from torch import nn\n",
    "from torch import optim\n",
    "from torch.nn import functional as F\n",
    "from torch.utils.data import TensorDataset, DataLoader\n",
    "from DL_project_utils import *\n",
    "\n",
    "import dlc_practical_prologue as prologue\n",
    "\n",
    "\n",
    "class Net1(nn.Module):\n",
    "    def __init__(self, nb_hidden = 64):\n",
    "        super().__init__()\n",
    "        self.conv1 = nn.Conv2d(1, 16, kernel_size=3, stride=1)\n",
    "        self.conv2 = nn.Conv2d(16, 32, kernel_size=3, stride=1)\n",
    "        self.fc1 = nn.Linear(128, nb_hidden)\n",
    "        self.fc2 = nn.Linear(nb_hidden, 10)\n",
    "\n",
    "    def forward(self, x):\n",
    "        x = F.max_pool2d(F.relu(self.conv1(x)), kernel_size=2, stride=2)\n",
    "        x = F.max_pool2d(F.relu(self.conv2(x)), kernel_size=2, stride=2)\n",
    "        x = F.relu(self.fc1(x.view(-1, 128)))\n",
    "        x = self.fc2(x)\n",
    "        return x\n",
    "\n",
    "class Net2(nn.Module):\n",
    "    def __init__(self, nb_hidden = 256):\n",
    "        super().__init__()\n",
    "        self.conv1 = nn.Conv2d(1, 32, kernel_size=5, stride=1, padding=2)\n",
    "        self.conv2 = nn.Conv2d(32, 64, kernel_size=5, stride=1, padding=2)\n",
    "        self.fc1 = nn.Linear(1024, nb_hidden)\n",
    "        self.fc2 = nn.Linear(nb_hidden, 10)\n",
    "\n",
    "    def forward(self, x):\n",
    "#         x = F.relu(F.max_pool2d(self.conv1(x), kernel_size=2, stride=2))\n",
    "#         x = F.relu(F.max_pool2d(self.conv2(x), kernel_size=2, stride=2))\n",
    "        x = F.max_pool2d(F.relu(self.conv1(x)), kernel_size=2, stride=2)\n",
    "        x = F.max_pool2d(F.relu(self.conv2(x)), kernel_size=2, stride=2, padding=1)\n",
    "        x = F.relu(self.fc1(x.view(-1, 1024)))\n",
    "        x = self.fc2(x)\n",
    "        return x\n",
    "    \n",
    "class Net3(nn.Module):\n",
    "    def __init__(self, nb_hidden = 64):\n",
    "        super().__init__()\n",
    "        self.conv1 = nn.Conv2d(2, 32, kernel_size=3, stride=1)\n",
    "        self.conv2 = nn.Conv2d(32, 64, kernel_size=3, stride=1)\n",
    "        self.fc1 = nn.Linear(256, nb_hidden)\n",
    "        self.fc2 = nn.Linear(nb_hidden, 2)\n",
    "\n",
    "    def forward(self, x):\n",
    "        x = F.max_pool2d(F.relu(self.conv1(x)), kernel_size=2, stride=2)\n",
    "        x = F.max_pool2d(F.relu(self.conv2(x)), kernel_size=2, stride=2)\n",
    "        x = F.relu(self.fc1(x.view(-1, 256)))\n",
    "        x = self.fc2(x)\n",
    "        return x\n"
   ]
  },
  {
   "cell_type": "code",
   "execution_count": 3,
   "metadata": {
    "scrolled": true
   },
   "outputs": [
    {
     "name": "stdout",
     "output_type": "stream",
     "text": [
      "Downloading http://yann.lecun.com/exdb/mnist/train-images-idx3-ubyte.gz to ./data/mnist/MNIST\\raw\\train-images-idx3-ubyte.gz\n",
      "Extracting ./data/mnist/MNIST\\raw\\train-images-idx3-ubyte.gz to ./data/mnist/MNIST\\raw\n",
      "Downloading http://yann.lecun.com/exdb/mnist/train-labels-idx1-ubyte.gz to ./data/mnist/MNIST\\raw\\train-labels-idx1-ubyte.gz\n",
      "Extracting ./data/mnist/MNIST\\raw\\train-labels-idx1-ubyte.gz to ./data/mnist/MNIST\\raw\n",
      "Downloading http://yann.lecun.com/exdb/mnist/t10k-images-idx3-ubyte.gz to ./data/mnist/MNIST\\raw\\t10k-images-idx3-ubyte.gz\n",
      "Extracting ./data/mnist/MNIST\\raw\\t10k-images-idx3-ubyte.gz to ./data/mnist/MNIST\\raw\n",
      "Downloading http://yann.lecun.com/exdb/mnist/t10k-labels-idx1-ubyte.gz to ./data/mnist/MNIST\\raw\\t10k-labels-idx1-ubyte.gz\n",
      "Extracting ./data/mnist/MNIST\\raw\\t10k-labels-idx1-ubyte.gz to ./data/mnist/MNIST\\raw\n",
      "Processing...\n",
      "Done!\n",
      "\n",
      "Epoch: 1/25, Train Loss: 1.323972, Val Loss: 0.576629, Val Accuracy: 80.349998% 1607/2000\n",
      "\n",
      "Epoch: 2/25, Train Loss: 0.363330, Val Loss: 0.340822, Val Accuracy: 89.850006% 1797/2000\n",
      "\n",
      "Epoch: 3/25, Train Loss: 0.194330, Val Loss: 0.185740, Val Accuracy: 94.300003% 1886/2000\n",
      "\n",
      "Epoch: 4/25, Train Loss: 0.139334, Val Loss: 0.182880, Val Accuracy: 94.950005% 1899/2000\n",
      "\n",
      "Epoch: 5/25, Train Loss: 0.104374, Val Loss: 0.189367, Val Accuracy: 94.750000% 1895/2000\n",
      "\n",
      "Epoch: 6/25, Train Loss: 0.138920, Val Loss: 0.191449, Val Accuracy: 94.599998% 1892/2000\n",
      "\n",
      "Epoch: 7/25, Train Loss: 0.069852, Val Loss: 0.193526, Val Accuracy: 95.150002% 1903/2000\n",
      "\n",
      "Epoch: 8/25, Train Loss: 0.055547, Val Loss: 0.203940, Val Accuracy: 95.000000% 1900/2000\n",
      "\n",
      "Epoch: 9/25, Train Loss: 0.072640, Val Loss: 0.196135, Val Accuracy: 95.099998% 1902/2000\n",
      "\n",
      "Epoch: 10/25, Train Loss: 0.039082, Val Loss: 0.409892, Val Accuracy: 93.099998% 1862/2000\n",
      "\n",
      "Epoch: 11/25, Train Loss: 0.109966, Val Loss: 0.218904, Val Accuracy: 94.400002% 1888/2000\n",
      "\n",
      "Epoch: 12/25, Train Loss: 0.032486, Val Loss: 0.215913, Val Accuracy: 95.000000% 1900/2000\n",
      "\n",
      "Epoch: 13/25, Train Loss: 0.016891, Val Loss: 0.244442, Val Accuracy: 95.050003% 1901/2000\n",
      "\n",
      "Epoch: 14/25, Train Loss: 0.009280, Val Loss: 0.253419, Val Accuracy: 94.849998% 1897/2000\n",
      "\n",
      "Epoch: 15/25, Train Loss: 0.004880, Val Loss: 0.248089, Val Accuracy: 95.550003% 1911/2000\n",
      "\n",
      "Epoch: 16/25, Train Loss: 0.002296, Val Loss: 0.237124, Val Accuracy: 95.950005% 1919/2000\n",
      "\n",
      "Epoch: 17/25, Train Loss: 0.002463, Val Loss: 0.241466, Val Accuracy: 96.000000% 1920/2000\n",
      "\n",
      "Epoch: 18/25, Train Loss: 0.001734, Val Loss: 0.241756, Val Accuracy: 96.050003% 1921/2000\n",
      "\n",
      "Epoch: 19/25, Train Loss: 0.001993, Val Loss: 0.231687, Val Accuracy: 95.850006% 1917/2000\n",
      "\n",
      "Epoch: 20/25, Train Loss: 0.000452, Val Loss: 0.236258, Val Accuracy: 95.900002% 1918/2000\n",
      "\n",
      "Epoch: 21/25, Train Loss: 0.000282, Val Loss: 0.239588, Val Accuracy: 96.100006% 1922/2000\n",
      "\n",
      "Epoch: 22/25, Train Loss: 0.000220, Val Loss: 0.242279, Val Accuracy: 96.050003% 1921/2000\n",
      "\n",
      "Epoch: 23/25, Train Loss: 0.000188, Val Loss: 0.244600, Val Accuracy: 96.000000% 1920/2000\n",
      "\n",
      "Epoch: 24/25, Train Loss: 0.000164, Val Loss: 0.246653, Val Accuracy: 96.000000% 1920/2000\n",
      "\n",
      "Epoch: 25/25, Train Loss: 0.000147, Val Loss: 0.248462, Val Accuracy: 96.000000% 1920/2000\n"
     ]
    },
    {
     "data": {
      "text/plain": "0it [00:00, ?it/s]",
      "application/vnd.jupyter.widget-view+json": {
       "version_major": 2,
       "version_minor": 0,
       "model_id": "115d93067f4e48c29d01b9096d1b7507"
      }
     },
     "metadata": {},
     "output_type": "display_data"
    },
    {
     "data": {
      "text/plain": "0it [00:00, ?it/s]",
      "application/vnd.jupyter.widget-view+json": {
       "version_major": 2,
       "version_minor": 0,
       "model_id": "d48504d0110849728cab220e954b7674"
      }
     },
     "metadata": {},
     "output_type": "display_data"
    },
    {
     "data": {
      "text/plain": "0it [00:00, ?it/s]",
      "application/vnd.jupyter.widget-view+json": {
       "version_major": 2,
       "version_minor": 0,
       "model_id": "82da477e169145049975f599a989ed99"
      }
     },
     "metadata": {},
     "output_type": "display_data"
    },
    {
     "data": {
      "text/plain": "0it [00:00, ?it/s]",
      "application/vnd.jupyter.widget-view+json": {
       "version_major": 2,
       "version_minor": 0,
       "model_id": "a14b7371472f413582ebb11d4b42ccfb"
      }
     },
     "metadata": {},
     "output_type": "display_data"
    },
    {
     "name": "stderr",
     "output_type": "stream",
     "text": [
      "C:\\ProgramData\\Anaconda3\\envs\\DeepLearning\\lib\\site-packages\\torchvision\\datasets\\mnist.py:480: UserWarning: The given NumPy array is not writeable, and PyTorch does not support non-writeable tensors. This means you can write to the underlying (supposedly non-writeable) NumPy array using the tensor. You may want to copy the array to protect its data or make it writeable before converting it to a tensor. This type of warning will be suppressed for the rest of this program. (Triggered internally at  ..\\torch\\csrc\\utils\\tensor_numpy.cpp:141.)\n",
      "  return torch.from_numpy(parsed.astype(m[2], copy=False)).view(*s)\n"
     ]
    }
   ],
   "source": [
    "learning_rate, epochs, batch_size = 1e-1, 25, 10\n",
    "train_loader, test_loader, test_target_loader = read_input(batch_size)\n",
    "# train_loader, test_loader = read_input(batch_size, single_channel = False)\n",
    "\n",
    "model = Net1()\n",
    "tr_loss_l, val_loss_l, val_accuracy_l = train_model(model, train_loader, test_loader, learning_rate, epochs)"
   ]
  },
  {
   "cell_type": "code",
   "execution_count": 4,
   "metadata": {},
   "outputs": [
    {
     "data": {
      "text/plain": "<Figure size 720x360 with 1 Axes>",
      "image/png": "[encoded data removed]"
     },
     "metadata": {
      "needs_background": "light"
     },
     "output_type": "display_data"
    }
   ],
   "source": [
    "import matplotlib.pyplot as plt\n",
    "fig = plt.figure(figsize=(10, 5))\n",
    "plt.plot(tr_loss_l, label=\"Train loss\")\n",
    "plt.plot(val_loss_l, label=\"Validation loss\")\n",
    "plt.xlabel('Epochs')\n",
    "plt.ylabel('Loss')\n",
    "plt.title(\"Train vs Validation Loss\")\n",
    "plt.legend(loc='upper right')\n",
    "plt.show()"
   ]
  },
  {
   "cell_type": "code",
   "execution_count": 6,
   "metadata": {
    "scrolled": true
   },
   "outputs": [
    {
     "name": "stdout",
     "output_type": "stream",
     "text": [
      "\n",
      "Round: 1/10, Val Accuracy: 97.899994% 979/1000\n",
      "\n",
      "Round: 2/10, Val Accuracy: 97.899994% 979/1000\n",
      "\n",
      "Round: 3/10, Val Accuracy: 98.199997% 982/1000\n",
      "\n",
      "Round: 4/10, Val Accuracy: 97.000000% 970/1000\n",
      "\n",
      "Round: 5/10, Val Accuracy: 98.400002% 984/1000\n",
      "\n",
      "Round: 6/10, Val Accuracy: 98.099998% 981/1000\n",
      "\n",
      "Round: 7/10, Val Accuracy: 98.099998% 981/1000\n",
      "\n",
      "Round: 8/10, Val Accuracy: 98.199997% 982/1000\n",
      "\n",
      "Round: 9/10, Val Accuracy: 98.500000% 985/1000\n",
      "\n",
      "Round: 10/10, Val Accuracy: 98.000000% 980/1000\n"
     ]
    }
   ],
   "source": [
    "batch_size, learning_rate, epochs, rounds = 10, 1e-1, 20, 10\n",
    "val_accuracy_list = predict_sc_accuracy(model, batch_size, learning_rate, epochs, rounds)"
   ]
  },
  {
   "cell_type": "code",
   "execution_count": 7,
   "metadata": {},
   "outputs": [
    {
     "name": "stderr",
     "output_type": "stream",
     "text": [
      "No handles with labels found to put in legend.\n"
     ]
    },
    {
     "data": {
      "text/plain": "<Figure size 432x432 with 1 Axes>",
      "image/png": "[encoded data removed]"
     },
     "metadata": {
      "needs_background": "light"
     },
     "output_type": "display_data"
    }
   ],
   "source": [
    "fig = plt.figure(figsize=(6, 6))\n",
    "plt.boxplot([val_accuracy_list])\n",
    "plt.xlabel('accuracy')\n",
    "plt.ylabel('accuracy')\n",
    "plt.title(f'Validation accuracy over {rounds} rounds')\n",
    "plt.legend(loc='upper right')\n",
    "plt.show()"
   ]
  }
 ],
 "metadata": {
  "kernelspec": {
   "display_name": "Python 3",
   "language": "python",
   "name": "python3"
  },
  "language_info": {
   "codemirror_mode": {
    "name": "ipython",
    "version": 3
   },
   "file_extension": ".py",
   "mimetype": "text/x-python",
   "name": "python",
   "nbconvert_exporter": "python",
   "pygments_lexer": "ipython3",
   "version": "3.8.3"
  }
 },
 "nbformat": 4,
 "nbformat_minor": 4
}