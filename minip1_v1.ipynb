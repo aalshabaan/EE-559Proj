{
 "cells": [
  {
   "cell_type": "code",
   "execution_count": 1,
   "metadata": {},
   "outputs": [],
   "source": [
    "import sys\n",
    "sys.path.insert(0,'..')\n",
    "\n",
    "import torch\n",
    "from torch import nn\n",
    "from torch import optim\n",
    "from torch.nn import functional as F\n",
    "from torch.utils.data import TensorDataset, DataLoader\n",
    "\n",
    "import dlc_practical_prologue as prologue"
   ]
  },
  {
   "cell_type": "code",
   "execution_count": 55,
   "metadata": {},
   "outputs": [],
   "source": [
    "def read_input(batch_size = 100, single_channel = True, normalize = True, pairs = 1000):\n",
    "    \n",
    "    train_input, train_target, train_classes, test_input, test_target, test_classes = \\\n",
    "        prologue.generate_pair_sets(pairs)\n",
    "    \n",
    "#     print('train_input', train_input.size(), 'train_target', train_target.size(), 'train_classes', train_classes.size())\n",
    "#     print('test_input', test_input.size(), 'test_target', test_target.size(), 'test_classes', test_classes.size())\n",
    "    \n",
    "    if normalize:\n",
    "        mu, std = train_input.mean(), train_input.std()\n",
    "        train_input.sub_(mu).div_(std)\n",
    "        test_input.sub_(mu).div_(std)\n",
    "#         print('normalize: ', normalize)\n",
    "\n",
    "    if single_channel:  \n",
    "        train_input_sc = torch.cat((train_input[:,0,:,:], train_input[:,1,:,:]), 0).unsqueeze(1)\n",
    "        train_classes_sc = torch.cat((train_classes[:,0], train_classes[:,1]), 0)\n",
    "        test_input_sc = torch.cat((test_input[:,0,:,:], test_input[:,1,:,:]), 0).unsqueeze(1)\n",
    "        test_classes_sc = torch.cat((test_classes[:,0], test_classes[:,1]), 0)\n",
    "\n",
    "#         print('single channel: train_input_sc', train_input_sc.size(), 'train_target', train_target.size(), 'train_classes_sc', train_classes_sc.size())\n",
    "#         print('single channel: test_input_sc', test_input_sc.size(), 'test_target', test_target.size(), 'test_classes_sc', test_classes_sc.size())\n",
    "    \n",
    "        trainDataset = TensorDataset(train_input_sc, train_classes_sc)\n",
    "        testDataset = TensorDataset(test_input_sc, test_classes_sc)\n",
    "\n",
    "        train_loader = DataLoader(trainDataset, batch_size, shuffle = False)\n",
    "        test_loader = DataLoader(testDataset, batch_size, shuffle = False)\n",
    "\n",
    "        test_target_Dataset = TensorDataset(test_input, test_target)\n",
    "        test_target_loader = DataLoader(test_target_Dataset, batch_size, shuffle = False)\n",
    "\n",
    "        return train_loader, test_loader, test_target_loader\n",
    "    \n",
    "    else:\n",
    "        trainDataset = TensorDataset(train_input, train_target)\n",
    "        testDataset = TensorDataset(test_input, test_target)\n",
    "\n",
    "        train_loader = DataLoader(trainDataset, batch_size, shuffle = False)\n",
    "        test_loader = DataLoader(testDataset, batch_size, shuffle = False)\n",
    "        \n",
    "        return train_loader, test_loader"
   ]
  },
  {
   "cell_type": "code",
   "execution_count": 100,
   "metadata": {},
   "outputs": [],
   "source": [
    "class Net1(nn.Module):\n",
    "    def __init__(self, nb_hidden = 64):\n",
    "        super().__init__()\n",
    "        self.conv1 = nn.Conv2d(1, 16, kernel_size=3, stride=1)\n",
    "        self.conv2 = nn.Conv2d(16, 32, kernel_size=3, stride=1)\n",
    "        self.fc1 = nn.Linear(128, nb_hidden)\n",
    "        self.fc2 = nn.Linear(nb_hidden, 10)\n",
    "\n",
    "    def forward(self, x):\n",
    "        x = F.max_pool2d(F.relu(self.conv1(x)), kernel_size=2, stride=2)\n",
    "        x = F.max_pool2d(F.relu(self.conv2(x)), kernel_size=2, stride=2)\n",
    "        x = F.relu(self.fc1(x.view(-1, 128)))\n",
    "        x = self.fc2(x)\n",
    "        return x\n",
    "\n",
    "class Net2(nn.Module):\n",
    "    def __init__(self, nb_hidden = 256):\n",
    "        super().__init__()\n",
    "        self.conv1 = nn.Conv2d(1, 32, kernel_size=5, stride=1, padding=2)\n",
    "        self.conv2 = nn.Conv2d(32, 64, kernel_size=5, stride=1, padding=2)\n",
    "        self.fc1 = nn.Linear(1024, nb_hidden)\n",
    "        self.fc2 = nn.Linear(nb_hidden, 10)\n",
    "\n",
    "    def forward(self, x):\n",
    "#         x = F.relu(F.max_pool2d(self.conv1(x), kernel_size=2, stride=2))\n",
    "#         x = F.relu(F.max_pool2d(self.conv2(x), kernel_size=2, stride=2))\n",
    "        x = F.max_pool2d(F.relu(self.conv1(x)), kernel_size=2, stride=2)\n",
    "        x = F.max_pool2d(F.relu(self.conv2(x)), kernel_size=2, stride=2, padding=1)\n",
    "        x = F.relu(self.fc1(x.view(-1, 1024)))\n",
    "        x = self.fc2(x)\n",
    "        return x\n",
    "    \n",
    "class Net3(nn.Module):\n",
    "    def __init__(self, nb_hidden = 64):\n",
    "        super().__init__()\n",
    "        self.conv1 = nn.Conv2d(2, 32, kernel_size=3, stride=1)\n",
    "        self.conv2 = nn.Conv2d(32, 64, kernel_size=3, stride=1)\n",
    "        self.fc1 = nn.Linear(256, nb_hidden)\n",
    "        self.fc2 = nn.Linear(nb_hidden, 2)\n",
    "\n",
    "    def forward(self, x):\n",
    "        x = F.max_pool2d(F.relu(self.conv1(x)), kernel_size=2, stride=2)\n",
    "        x = F.max_pool2d(F.relu(self.conv2(x)), kernel_size=2, stride=2)\n",
    "        x = F.relu(self.fc1(x.view(-1, 256)))\n",
    "        x = self.fc2(x)\n",
    "        return x"
   ]
  },
  {
   "cell_type": "code",
   "execution_count": 92,
   "metadata": {},
   "outputs": [],
   "source": [
    "def train_model_epoch(model, optimizer, criterion, train_loader):\n",
    "    tr_loss = 0\n",
    "    \n",
    "    for batch_idx, (data, target) in enumerate(train_loader):\n",
    "        optimizer.zero_grad()\n",
    "        output = model(data)\n",
    "\n",
    "        loss = criterion(output, target)\n",
    "        tr_loss += loss.item()\n",
    "\n",
    "        loss.backward()\n",
    "        optimizer.step()\n",
    "        \n",
    "    tr_loss = tr_loss/(batch_idx + 1)\n",
    "    return tr_loss\n",
    "\n",
    "def validate_model_epoch(model, criterion, test_loader):\n",
    "    val_loss = 0\n",
    "    correct_pred = 0\n",
    "\n",
    "    for batch_idx, (data, target) in enumerate(test_loader):\n",
    "        pred = model(data)\n",
    "\n",
    "        loss = criterion(pred, target)\n",
    "        val_loss += loss.item()\n",
    "\n",
    "        predicted_label = pred.max(1)[1]\n",
    "        correct_pred += (predicted_label == target).sum()\n",
    "\n",
    "    val_loss = val_loss/ (batch_idx + 1)  \n",
    "    return val_loss, correct_pred\n",
    "\n",
    "def train_model(model, train_loader, test_loader, learning_rate = 1e-2, epochs = 10, eval_ = True):\n",
    "    optimizer = optim.SGD(model.parameters(), lr = learning_rate)\n",
    "    criterion = nn.CrossEntropyLoss()\n",
    "    #optimizer = optim.Adam(model.parameters(), lr)\n",
    "    #momentum=momentum\n",
    "    \n",
    "    tr_loss_list=[]\n",
    "    val_loss_list=[]\n",
    "    val_accuracy_list=[]\n",
    "    \n",
    "    for epoch in range(epochs):\n",
    "        model.train()\n",
    "        tr_loss = train_model_epoch(model, optimizer, criterion, train_loader)\n",
    "        tr_loss_list.append(tr_loss)    \n",
    "        \n",
    "        if(eval_):\n",
    "            model.eval()\n",
    "            val_loss, correct_pred = validate_model_epoch(model, criterion, test_loader)\n",
    "            val_accuracy = correct_pred / (test_loader.batch_size*len(test_loader))\n",
    "            val_loss_list.append(val_loss)    \n",
    "            val_accuracy_list.append(val_accuracy)    \n",
    "            \n",
    "            print('\\nEpoch: {}/{}, Train Loss: {:.6f}, Val Loss: {:.6f}, Val Accuracy: {:.6f}% {}/{}'.format(epoch + 1, epochs, tr_loss, val_loss, 100*val_accuracy, correct_pred, test_loader.batch_size*len(test_loader)))\n",
    "#         else:\n",
    "#             print('\\nEpoch: {}/{}, Train Loss: {:.6f}'.format(epoch + 1, epochs, tr_loss))\n",
    "\n",
    "    return tr_loss_list, val_loss_list, val_accuracy_list"
   ]
  },
  {
   "cell_type": "code",
   "execution_count": 104,
   "metadata": {
    "scrolled": true
   },
   "outputs": [
    {
     "name": "stdout",
     "output_type": "stream",
     "text": [
      "\n",
      "Epoch: 1/25, Train Loss: 1.213621, Val Loss: 0.790016, Val Accuracy: 73.199997% 1464/2000\n",
      "\n",
      "Epoch: 2/25, Train Loss: 0.314449, Val Loss: 0.317783, Val Accuracy: 89.650002% 1793/2000\n",
      "\n",
      "Epoch: 3/25, Train Loss: 0.203187, Val Loss: 0.340614, Val Accuracy: 89.000000% 1780/2000\n",
      "\n",
      "Epoch: 4/25, Train Loss: 0.154575, Val Loss: 0.269988, Val Accuracy: 91.799995% 1836/2000\n",
      "\n",
      "Epoch: 5/25, Train Loss: 0.132993, Val Loss: 0.246174, Val Accuracy: 93.349998% 1867/2000\n",
      "\n",
      "Epoch: 6/25, Train Loss: 0.077673, Val Loss: 0.254079, Val Accuracy: 94.250000% 1885/2000\n",
      "\n",
      "Epoch: 7/25, Train Loss: 0.087050, Val Loss: 0.247408, Val Accuracy: 93.699997% 1874/2000\n",
      "\n",
      "Epoch: 8/25, Train Loss: 0.069928, Val Loss: 0.291593, Val Accuracy: 93.049995% 1861/2000\n",
      "\n",
      "Epoch: 9/25, Train Loss: 0.052889, Val Loss: 0.229265, Val Accuracy: 94.550003% 1891/2000\n",
      "\n",
      "Epoch: 10/25, Train Loss: 0.062498, Val Loss: 0.208937, Val Accuracy: 94.849998% 1897/2000\n",
      "\n",
      "Epoch: 11/25, Train Loss: 0.050576, Val Loss: 0.253044, Val Accuracy: 94.250000% 1885/2000\n",
      "\n",
      "Epoch: 12/25, Train Loss: 0.033721, Val Loss: 0.231710, Val Accuracy: 95.200005% 1904/2000\n",
      "\n",
      "Epoch: 13/25, Train Loss: 0.088177, Val Loss: 0.212976, Val Accuracy: 95.050003% 1901/2000\n",
      "\n",
      "Epoch: 14/25, Train Loss: 0.018438, Val Loss: 0.222522, Val Accuracy: 95.349998% 1907/2000\n",
      "\n",
      "Epoch: 15/25, Train Loss: 0.011730, Val Loss: 0.284993, Val Accuracy: 95.000000% 1900/2000\n",
      "\n",
      "Epoch: 16/25, Train Loss: 0.014854, Val Loss: 0.229421, Val Accuracy: 95.800003% 1916/2000\n",
      "\n",
      "Epoch: 17/25, Train Loss: 0.002123, Val Loss: 0.245137, Val Accuracy: 95.450005% 1909/2000\n",
      "\n",
      "Epoch: 18/25, Train Loss: 0.000502, Val Loss: 0.243141, Val Accuracy: 95.750000% 1915/2000\n",
      "\n",
      "Epoch: 19/25, Train Loss: 0.000217, Val Loss: 0.244662, Val Accuracy: 95.800003% 1916/2000\n",
      "\n",
      "Epoch: 20/25, Train Loss: 0.000183, Val Loss: 0.246212, Val Accuracy: 95.750000% 1915/2000\n",
      "\n",
      "Epoch: 21/25, Train Loss: 0.000160, Val Loss: 0.247675, Val Accuracy: 95.750000% 1915/2000\n",
      "\n",
      "Epoch: 22/25, Train Loss: 0.000143, Val Loss: 0.249094, Val Accuracy: 95.750000% 1915/2000\n",
      "\n",
      "Epoch: 23/25, Train Loss: 0.000130, Val Loss: 0.250419, Val Accuracy: 95.750000% 1915/2000\n",
      "\n",
      "Epoch: 24/25, Train Loss: 0.000120, Val Loss: 0.251692, Val Accuracy: 95.800003% 1916/2000\n",
      "\n",
      "Epoch: 25/25, Train Loss: 0.000111, Val Loss: 0.252893, Val Accuracy: 95.800003% 1916/2000\n"
     ]
    }
   ],
   "source": [
    "learning_rate, epochs, batch_size = 1e-1, 25, 10\n",
    "train_loader, test_loader, test_target_loader = read_input(batch_size)\n",
    "# train_loader, test_loader = read_input(batch_size, single_channel = False)\n",
    "\n",
    "model = Net1()\n",
    "tr_loss_l, val_loss_l, val_accuracy_l = train_model(model, train_loader, test_loader, learning_rate, epochs)"
   ]
  },
  {
   "cell_type": "code",
   "execution_count": 105,
   "metadata": {},
   "outputs": [
    {
     "data": {
      "image/png": "[encoded data removed]",
      "text/plain": [
       "<Figure size 720x360 with 1 Axes>"
      ]
     },
     "metadata": {
      "needs_background": "light"
     },
     "output_type": "display_data"
    }
   ],
   "source": [
    "import matplotlib.pyplot as plt\n",
    "fig = plt.figure(figsize=(10, 5))\n",
    "plt.plot(tr_loss_l, label=\"Train loss\")\n",
    "plt.plot(val_loss_l, label=\"Validation loss\")\n",
    "plt.xlabel('Epochs')\n",
    "plt.ylabel('Loss')\n",
    "plt.title(\"Train vs Validation Loss\")\n",
    "plt.legend(loc='upper right')\n",
    "plt.show()"
   ]
  },
  {
   "cell_type": "code",
   "execution_count": 106,
   "metadata": {},
   "outputs": [],
   "source": [
    "def predict_sc_accuracy_round(model, test_loader):\n",
    "    model.eval()\n",
    "\n",
    "    correct_pred = 0\n",
    "\n",
    "    for batch_idx, (data, target) in enumerate(test_loader):\n",
    "        pred_first = model(data[:,0,:,:].unsqueeze(1))\n",
    "        predicted_label_first = pred_first.max(1)[1]\n",
    "\n",
    "        pred_second = model(data[:,1,:,:].unsqueeze(1))\n",
    "        predicted_label_second = pred_second.max(1)[1]\n",
    "\n",
    "        predicted_label = (predicted_label_first <= predicted_label_second)\n",
    "        correct_pred += (predicted_label.int() == target).sum()\n",
    "\n",
    "    return correct_pred"
   ]
  },
  {
   "cell_type": "code",
   "execution_count": 107,
   "metadata": {},
   "outputs": [],
   "source": [
    "def predict_sc_accuracy(batch_size, learning_rate, epochs, rounds):\n",
    "    \n",
    "    val_accuracy_list = []\n",
    "\n",
    "    for round_ in range(rounds):\n",
    "\n",
    "        train_loader, test_loader, test_target_loader = read_input(batch_size)\n",
    "\n",
    "        model = Net1()\n",
    "\n",
    "        _,_,_ = train_model(model, train_loader, test_loader, learning_rate, epochs, eval_=False)\n",
    "\n",
    "        nb_correct_pred = predict_single_channel(model, test_target_loader)\n",
    "\n",
    "        val_accuracy = nb_correct_pred / (test_target_loader.batch_size*len(test_target_loader))\n",
    "        val_accuracy_list.append(val_accuracy)\n",
    "        \n",
    "        print('\\nRound: {}/{}, Val Accuracy: {:.6f}% {}/{}'.format(round_+1, rounds, 100*val_accuracy, nb_correct_pred, test_target_loader.batch_size*len(test_target_loader)))\n",
    "        \n",
    "    return val_accuracy_list"
   ]
  },
  {
   "cell_type": "code",
   "execution_count": 108,
   "metadata": {
    "scrolled": true
   },
   "outputs": [
    {
     "name": "stdout",
     "output_type": "stream",
     "text": [
      "\n",
      "Round: 1/10, Val Accuracy: 97.199997% 972/1000\n",
      "\n",
      "Round: 2/10, Val Accuracy: 97.500000% 975/1000\n",
      "\n",
      "Round: 3/10, Val Accuracy: 97.899994% 979/1000\n",
      "\n",
      "Round: 4/10, Val Accuracy: 97.099998% 971/1000\n",
      "\n",
      "Round: 5/10, Val Accuracy: 97.199997% 972/1000\n",
      "\n",
      "Round: 6/10, Val Accuracy: 98.000000% 980/1000\n",
      "\n",
      "Round: 7/10, Val Accuracy: 97.399994% 974/1000\n",
      "\n",
      "Round: 8/10, Val Accuracy: 98.000000% 980/1000\n",
      "\n",
      "Round: 9/10, Val Accuracy: 96.500000% 965/1000\n",
      "\n",
      "Round: 10/10, Val Accuracy: 97.099998% 971/1000\n"
     ]
    }
   ],
   "source": [
    "batch_size, learning_rate, epochs, rounds = 10, 1e-1, 20, 10\n",
    "val_accuracy_list = predict_sc_accuracy(batch_size, learning_rate, epochs, rounds)"
   ]
  },
  {
   "cell_type": "code",
   "execution_count": 94,
   "metadata": {},
   "outputs": [
    {
     "name": "stderr",
     "output_type": "stream",
     "text": [
      "No handles with labels found to put in legend.\n"
     ]
    },
    {
     "data": {
      "image/png": "[encoded data removed]",
      "text/plain": [
       "<Figure size 432x432 with 1 Axes>"
      ]
     },
     "metadata": {
      "needs_background": "light"
     },
     "output_type": "display_data"
    }
   ],
   "source": [
    "fig = plt.figure(figsize=(6, 6))\n",
    "plt.boxplot([val_accuracy_list])\n",
    "plt.xlabel('accuracy')\n",
    "plt.ylabel('accuracy')\n",
    "plt.title(f'Validation accuracy over {rounds} rounds')\n",
    "plt.legend(loc='upper right')\n",
    "plt.show()"
   ]
  }
 ],
 "metadata": {
  "kernelspec": {
   "display_name": "Python 3",
   "language": "python",
   "name": "python3"
  },
  "language_info": {
   "codemirror_mode": {
    "name": "ipython",
    "version": 3
   },
   "file_extension": ".py",
   "mimetype": "text/x-python",
   "name": "python",
   "nbconvert_exporter": "python",
   "pygments_lexer": "ipython3",
   "version": "3.8.3"
  }
 },
 "nbformat": 4,
 "nbformat_minor": 4
}
