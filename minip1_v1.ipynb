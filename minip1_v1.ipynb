{
 "cells": [
  {
   "cell_type": "code",
   "execution_count": 3,
   "metadata": {},
   "outputs": [],
   "source": [
    "import sys\n",
    "sys.path.insert(0,'..')\n",
    "\n",
    "import torch\n",
    "from torch import nn\n",
    "from torch import optim\n",
    "from torch.nn import functional as F\n",
    "from torch.utils.data import TensorDataset, DataLoader\n",
    "from DL_project_utils import *\n",
    "\n",
    "%load_ext autoreload\n",
    "%autoreload 1\n",
    "%aimport DL_project_utils\n",
    "\n",
    "\n",
    "class Net1(nn.Module):\n",
    "    def __init__(self, nb_hidden = 64):\n",
    "        super().__init__()\n",
    "        self.conv1 = nn.Conv2d(1, 16, kernel_size=3, stride=1)\n",
    "        self.conv2 = nn.Conv2d(16, 32, kernel_size=3, stride=1)\n",
    "        self.fc1 = nn.Linear(128, nb_hidden)\n",
    "        self.fc2 = nn.Linear(nb_hidden, 10)\n",
    "\n",
    "    def forward(self, x):\n",
    "        x = F.max_pool2d(F.relu(self.conv1(x)), kernel_size=2, stride=2)\n",
    "        x = F.max_pool2d(F.relu(self.conv2(x)), kernel_size=2, stride=2)\n",
    "        x = F.relu(self.fc1(x.view(-1, 128)))\n",
    "        x = self.fc2(x)\n",
    "        return x\n",
    "\n",
    "class Net2(nn.Module):\n",
    "    def __init__(self, nb_hidden = 256):\n",
    "        super().__init__()\n",
    "        self.conv1 = nn.Conv2d(1, 32, kernel_size=5, stride=1, padding=2)\n",
    "        self.conv2 = nn.Conv2d(32, 64, kernel_size=5, stride=1, padding=2)\n",
    "        self.fc1 = nn.Linear(1024, nb_hidden)\n",
    "        self.fc2 = nn.Linear(nb_hidden, 10)\n",
    "\n",
    "    def forward(self, x):\n",
    "#         x = F.relu(F.max_pool2d(self.conv1(x), kernel_size=2, stride=2))\n",
    "#         x = F.relu(F.max_pool2d(self.conv2(x), kernel_size=2, stride=2))\n",
    "        x = F.max_pool2d(F.relu(self.conv1(x)), kernel_size=2, stride=2)\n",
    "        x = F.max_pool2d(F.relu(self.conv2(x)), kernel_size=2, stride=2, padding=1)\n",
    "        x = F.relu(self.fc1(x.view(-1, 1024)))\n",
    "        x = self.fc2(x)\n",
    "        return x\n",
    "    \n",
    "class Net3(nn.Module):\n",
    "    def __init__(self, nb_hidden = 64):\n",
    "        super().__init__()\n",
    "        self.conv1 = nn.Conv2d(2, 32, kernel_size=3, stride=1)\n",
    "        self.conv2 = nn.Conv2d(32, 64, kernel_size=3, stride=1)\n",
    "        self.fc1 = nn.Linear(256, nb_hidden)\n",
    "        self.fc2 = nn.Linear(nb_hidden, 2)\n",
    "\n",
    "    def forward(self, x):\n",
    "        x = F.max_pool2d(F.relu(self.conv1(x)), kernel_size=2, stride=2)\n",
    "        x = F.max_pool2d(F.relu(self.conv2(x)), kernel_size=2, stride=2)\n",
    "        x = F.relu(self.fc1(x.view(-1, 256)))\n",
    "        x = self.fc2(x)\n",
    "        return x\n"
   ]
  },
  {
   "cell_type": "code",
   "execution_count": 7,
   "metadata": {
    "scrolled": true
   },
   "outputs": [
    {
     "name": "stdout",
     "output_type": "stream",
     "text": [
      "\n",
      "Epoch: 1/25, Train Loss: 2.275307, Val Loss: 2.241265, Val Accuracy: 26.000000% 104/400\n",
      "\n",
      "Epoch: 2/25, Train Loss: 2.189470, Val Loss: 2.099969, Val Accuracy: 57.000000% 228/400\n",
      "\n",
      "Epoch: 3/25, Train Loss: 1.912729, Val Loss: 1.559326, Val Accuracy: 74.250000% 297/400\n",
      "\n",
      "Epoch: 4/25, Train Loss: 1.377480, Val Loss: 1.149688, Val Accuracy: 68.000000% 272/400\n",
      "\n",
      "Epoch: 5/25, Train Loss: 0.949096, Val Loss: 0.718743, Val Accuracy: 77.250000% 309/400\n",
      "\n",
      "Epoch: 6/25, Train Loss: 0.744885, Val Loss: 0.528799, Val Accuracy: 83.750000% 335/400\n",
      "\n",
      "Epoch: 7/25, Train Loss: 0.562546, Val Loss: 0.451503, Val Accuracy: 86.000000% 344/400\n",
      "\n",
      "Epoch: 8/25, Train Loss: 0.425771, Val Loss: 0.395980, Val Accuracy: 86.500000% 346/400\n",
      "\n",
      "Epoch: 9/25, Train Loss: 0.348223, Val Loss: 0.379037, Val Accuracy: 87.750000% 351/400\n",
      "\n",
      "Epoch: 10/25, Train Loss: 0.299029, Val Loss: 0.382726, Val Accuracy: 86.500000% 346/400\n",
      "\n",
      "Epoch: 11/25, Train Loss: 0.269548, Val Loss: 0.362789, Val Accuracy: 87.750000% 351/400\n",
      "\n",
      "Epoch: 12/25, Train Loss: 0.238161, Val Loss: 0.339142, Val Accuracy: 88.750000% 355/400\n",
      "\n",
      "Epoch: 13/25, Train Loss: 0.211438, Val Loss: 0.323101, Val Accuracy: 89.000000% 356/400\n",
      "\n",
      "Epoch: 14/25, Train Loss: 0.190982, Val Loss: 0.307832, Val Accuracy: 89.500000% 358/400\n",
      "\n",
      "Epoch: 15/25, Train Loss: 0.172897, Val Loss: 0.296570, Val Accuracy: 90.000000% 360/400\n",
      "\n",
      "Epoch: 16/25, Train Loss: 0.159089, Val Loss: 0.286023, Val Accuracy: 90.000000% 360/400\n",
      "\n",
      "Epoch: 17/25, Train Loss: 0.145549, Val Loss: 0.276299, Val Accuracy: 90.500000% 362/400\n",
      "\n",
      "Epoch: 18/25, Train Loss: 0.133173, Val Loss: 0.267272, Val Accuracy: 91.250000% 365/400\n",
      "\n",
      "Epoch: 19/25, Train Loss: 0.121710, Val Loss: 0.253854, Val Accuracy: 91.750000% 367/400\n",
      "\n",
      "Epoch: 20/25, Train Loss: 0.111542, Val Loss: 0.251546, Val Accuracy: 92.000000% 368/400\n",
      "\n",
      "Epoch: 21/25, Train Loss: 0.102269, Val Loss: 0.235943, Val Accuracy: 92.500000% 370/400\n",
      "\n",
      "Epoch: 22/25, Train Loss: 0.093349, Val Loss: 0.229896, Val Accuracy: 92.500000% 370/400\n",
      "\n",
      "Epoch: 23/25, Train Loss: 0.085571, Val Loss: 0.223452, Val Accuracy: 92.250000% 369/400\n",
      "\n",
      "Epoch: 24/25, Train Loss: 0.077637, Val Loss: 0.213132, Val Accuracy: 92.250000% 369/400\n",
      "\n",
      "Epoch: 25/25, Train Loss: 0.070355, Val Loss: 0.203033, Val Accuracy: 93.500000% 374/400\n"
     ]
    }
   ],
   "source": [
    "learning_rate, epochs, batch_size = 1e-1, 25, 10\n",
    "train_loader, test_loader, test_target_loader = read_input(batch_size)\n",
    "# train_loader, test_loader = read_input(batch_size, single_channel = False)\n",
    "model = Net1()\n",
    "tr_loss_l, val_loss_l, val_accuracy_l = train_model(model=model, train_dataset=train_loader,learning_rate=learning_rate,epochs=epochs)"
   ]
  },
  {
   "cell_type": "code",
   "execution_count": 4,
   "metadata": {},
   "outputs": [
    {
     "data": {
      "text/plain": "<Figure size 720x360 with 1 Axes>",
      "image/png": "[encoded data removed]"
     },
     "metadata": {
      "needs_background": "light"
     },
     "output_type": "display_data"
    }
   ],
   "source": [
    "import matplotlib.pyplot as plt\n",
    "fig = plt.figure(figsize=(10, 5))\n",
    "plt.plot(tr_loss_l, label=\"Train loss\")\n",
    "plt.plot(val_loss_l, label=\"Validation loss\")\n",
    "plt.xlabel('Epochs')\n",
    "plt.ylabel('Loss')\n",
    "plt.title(\"Train vs Validation Loss\")\n",
    "plt.legend(loc='upper right')\n",
    "plt.show()"
   ]
  },
  {
   "cell_type": "code",
   "execution_count": 6,
   "metadata": {
    "scrolled": true
   },
   "outputs": [
    {
     "name": "stdout",
     "output_type": "stream",
     "text": [
      "\n",
      "Round: 1/10, Val Accuracy: 97.899994% 979/1000\n",
      "\n",
      "Round: 2/10, Val Accuracy: 97.899994% 979/1000\n",
      "\n",
      "Round: 3/10, Val Accuracy: 98.199997% 982/1000\n",
      "\n",
      "Round: 4/10, Val Accuracy: 97.000000% 970/1000\n",
      "\n",
      "Round: 5/10, Val Accuracy: 98.400002% 984/1000\n",
      "\n",
      "Round: 6/10, Val Accuracy: 98.099998% 981/1000\n",
      "\n",
      "Round: 7/10, Val Accuracy: 98.099998% 981/1000\n",
      "\n",
      "Round: 8/10, Val Accuracy: 98.199997% 982/1000\n",
      "\n",
      "Round: 9/10, Val Accuracy: 98.500000% 985/1000\n",
      "\n",
      "Round: 10/10, Val Accuracy: 98.000000% 980/1000\n"
     ]
    }
   ],
   "source": [
    "batch_size, learning_rate, epochs, rounds = 10, 1e-1, 20, 10\n",
    "val_accuracy_list = predict_sc_accuracy(model, batch_size, learning_rate, epochs, rounds)"
   ]
  },
  {
   "cell_type": "code",
   "execution_count": 11,
   "metadata": {},
   "outputs": [
    {
     "data": {
      "text/plain": "<Figure size 432x432 with 1 Axes>",
      "image/png": "[encoded data removed]"
     },
     "metadata": {
      "needs_background": "light"
     },
     "output_type": "display_data"
    }
   ],
   "source": [
    "fig = plt.figure(figsize=(6, 6))\n",
    "plt.boxplot([val_accuracy_list])\n",
    "plt.xlabel('accuracy')\n",
    "plt.ylabel('accuracy')\n",
    "plt.title(f'Validation accuracy over {rounds} rounds')\n",
    "plt.legend(['Net1'],loc='upper right')\n",
    "plt.show()"
   ]
  }
 ],
 "metadata": {
  "kernelspec": {
   "display_name": "Python 3",
   "language": "python",
   "name": "python3"
  },
  "language_info": {
   "codemirror_mode": {
    "name": "ipython",
    "version": 3
   },
   "file_extension": ".py",
   "mimetype": "text/x-python",
   "name": "python",
   "nbconvert_exporter": "python",
   "pygments_lexer": "ipython3",
   "version": "3.8.3"
  }
 },
 "nbformat": 4,
 "nbformat_minor": 4
}