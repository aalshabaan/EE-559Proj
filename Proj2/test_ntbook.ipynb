{
 "cells": [
  {
   "cell_type": "code",
   "execution_count": 1,
   "metadata": {},
   "outputs": [],
   "source": [
    "import torch\n",
    "import math\n",
    "from utils import *\n",
    "from nn import *\n",
    "import numpy as np\n",
    "\n",
    "%load_ext autoreload\n",
    "%autoreload 2\n"
   ]
  },
  {
   "cell_type": "code",
   "execution_count": 2,
   "metadata": {},
   "outputs": [
    {
     "data": {
      "text/plain": [
       "<torch.autograd.grad_mode.set_grad_enabled at 0x270b642deb0>"
      ]
     },
     "execution_count": 2,
     "metadata": {},
     "output_type": "execute_result"
    }
   ],
   "source": [
    "# Disable autograd\n",
    "torch.set_grad_enabled(False)"
   ]
  },
  {
   "cell_type": "code",
   "execution_count": 3,
   "metadata": {},
   "outputs": [],
   "source": [
    "train_input, train_target = generate_disc_data()\n",
    "test_input, test_target = generate_disc_data()\n",
    "train_input, test_input = normalize(train_input, test_input)"
   ]
  },
  {
   "cell_type": "code",
   "execution_count": 7,
   "metadata": {},
   "outputs": [],
   "source": [
    "model = Sequential(Linear(2, 25), ReLU(),\n",
    "                   Linear(25, 25), ReLU(),\n",
    "                   Linear(25, 25), ReLU(),\n",
    "                   Linear(25, 1))\n",
    "\n",
    "model2 = Sequential(Linear(2, 25), Tanh(),\n",
    "                   Linear(25, 25), Tanh(),\n",
    "                   Linear(25, 25), Tanh(),\n",
    "                   Linear(25, 1))\n",
    "\n",
    "model3 = Sequential(Linear(2, 25), ReLU(),\n",
    "                   Linear(25, 25), ReLU(),\n",
    "                   Linear(25, 25), ReLU(),\n",
    "                   Linear(25, 1), Tanh())"
   ]
  },
  {
   "cell_type": "code",
   "execution_count": 5,
   "metadata": {
    "pycharm": {
     "name": "#%%\n"
    }
   },
   "outputs": [
    {
     "name": "stdout",
     "output_type": "stream",
     "text": [
      "\n",
      "Epoch: 1/25, Train Loss: 0.018191, Train Accuracy 75.600000%\n",
      "\n",
      "Epoch: 2/25, Train Loss: 0.008226, Train Accuracy 90.700000%\n",
      "\n",
      "Epoch: 3/25, Train Loss: 0.006580, Train Accuracy 93.000000%\n",
      "\n",
      "Epoch: 4/25, Train Loss: 0.005882, Train Accuracy 94.700000%\n",
      "\n",
      "Epoch: 5/25, Train Loss: 0.005365, Train Accuracy 95.300000%\n",
      "\n",
      "Epoch: 6/25, Train Loss: 0.005012, Train Accuracy 95.600000%\n",
      "\n",
      "Epoch: 7/25, Train Loss: 0.004652, Train Accuracy 96.200000%\n",
      "\n",
      "Epoch: 8/25, Train Loss: 0.004396, Train Accuracy 96.200000%\n",
      "\n",
      "Epoch: 9/25, Train Loss: 0.004152, Train Accuracy 96.600000%\n",
      "\n",
      "Epoch: 10/25, Train Loss: 0.003924, Train Accuracy 96.500000%\n",
      "\n",
      "Epoch: 11/25, Train Loss: 0.003714, Train Accuracy 97.000000%\n",
      "\n",
      "Epoch: 12/25, Train Loss: 0.003532, Train Accuracy 96.600000%\n",
      "\n",
      "Epoch: 13/25, Train Loss: 0.003346, Train Accuracy 97.100000%\n",
      "\n",
      "Epoch: 14/25, Train Loss: 0.003264, Train Accuracy 97.100000%\n",
      "\n",
      "Epoch: 15/25, Train Loss: 0.003169, Train Accuracy 97.100000%\n",
      "\n",
      "Epoch: 16/25, Train Loss: 0.002991, Train Accuracy 97.200000%\n",
      "\n",
      "Epoch: 17/25, Train Loss: 0.002865, Train Accuracy 97.500000%\n",
      "\n",
      "Epoch: 18/25, Train Loss: 0.002877, Train Accuracy 96.700000%\n",
      "\n",
      "Epoch: 19/25, Train Loss: 0.002820, Train Accuracy 96.900000%\n",
      "\n",
      "Epoch: 20/25, Train Loss: 0.002663, Train Accuracy 97.100000%\n",
      "\n",
      "Epoch: 21/25, Train Loss: 0.002671, Train Accuracy 97.000000%\n",
      "\n",
      "Epoch: 22/25, Train Loss: 0.002571, Train Accuracy 97.200000%\n",
      "\n",
      "Epoch: 23/25, Train Loss: 0.002485, Train Accuracy 96.800000%\n",
      "\n",
      "Epoch: 24/25, Train Loss: 0.002414, Train Accuracy 97.500000%\n",
      "\n",
      "Epoch: 25/25, Train Loss: 0.002173, Train Accuracy 97.900000%\n"
     ]
    }
   ],
   "source": [
    "tr_loss_list, tr_acc_list = train_model(model, \n",
    "                                        train_input, \n",
    "                                        train_target,\n",
    "                                        learning_rate=1e-1,\n",
    "                                        epochs=25, \n",
    "                                        batch_size=10,\n",
    "                                        optimizer='SGD', \n",
    "                                        loss='mse', \n",
    "                                        verbose=True, \n",
    "                                        momentum=0.0)\n"
   ]
  },
  {
   "cell_type": "code",
   "execution_count": 6,
   "metadata": {},
   "outputs": [
    {
     "name": "stdout",
     "output_type": "stream",
     "text": [
      "mean=0.9782999999999997, std=0.006419501538281619 with 10 rounds\n"
     ]
    }
   ],
   "source": [
    "results_mean = {}\n",
    "results_std = {}\n",
    "\n",
    "nb_rounds = 10\n",
    "test_acc = np.empty(nb_rounds)\n",
    "\n",
    "for i in range(nb_rounds):\n",
    "    \n",
    "    train_input, train_target = generate_disc_data()\n",
    "    test_input, test_target = generate_disc_data()\n",
    "    train_input, test_input = normalize(train_input, test_input)\n",
    "    \n",
    "    tr_loss_list, tr_acc_list = train_model(model, \n",
    "                                        train_input, \n",
    "                                        train_target,\n",
    "                                        learning_rate=1e-1,\n",
    "                                        epochs=25, \n",
    "                                        batch_size=10,\n",
    "                                        optimizer='SGD', \n",
    "                                        loss='mse', \n",
    "                                        verbose=False, \n",
    "                                        momentum=0.0)\n",
    "    \n",
    "    test_acc[i] = evaluate_model(model, test_input, test_target, batch_size=10)\n",
    "    \n",
    "results_mean['baseline'] = test_acc.mean()\n",
    "results_std['baseline'] = test_acc.std()\n",
    "print('mean={}, std={} with {} rounds'.format(results_mean['baseline'],results_std['baseline'],nb_rounds))"
   ]
  },
  {
   "cell_type": "code",
   "execution_count": 8,
   "metadata": {},
   "outputs": [
    {
     "name": "stdout",
     "output_type": "stream",
     "text": [
      "Project 2 Mini deep-learning framework running...\n",
      "\n",
      "Network architecture: 2 input units, 3 hidden layers of 25 units, 1 output unit, ReLU activations and MSE loss.\n",
      "Training over 15 epochs with SGD of 10 mini batch size and 0.1 learning rate.\n",
      "\n",
      "Logging the loss:\n",
      "\n",
      "Epoch: 1/15, Train Loss: 0.022115, Train Accuracy 66.600000%\n",
      "\n",
      "Epoch: 2/15, Train Loss: 0.009161, Train Accuracy 91.200000%\n",
      "\n",
      "Epoch: 3/15, Train Loss: 0.007140, Train Accuracy 93.200000%\n",
      "\n",
      "Epoch: 4/15, Train Loss: 0.006195, Train Accuracy 94.500000%\n",
      "\n",
      "Epoch: 5/15, Train Loss: 0.005526, Train Accuracy 95.600000%\n",
      "\n",
      "Epoch: 6/15, Train Loss: 0.005058, Train Accuracy 95.600000%\n",
      "\n",
      "Epoch: 7/15, Train Loss: 0.004676, Train Accuracy 96.300000%\n",
      "\n",
      "Epoch: 8/15, Train Loss: 0.004372, Train Accuracy 95.900000%\n",
      "\n",
      "Epoch: 9/15, Train Loss: 0.004073, Train Accuracy 96.200000%\n",
      "\n",
      "Epoch: 10/15, Train Loss: 0.003858, Train Accuracy 96.200000%\n",
      "\n",
      "Epoch: 11/15, Train Loss: 0.003648, Train Accuracy 96.300000%\n",
      "\n",
      "Epoch: 12/15, Train Loss: 0.003496, Train Accuracy 96.500000%\n",
      "\n",
      "Epoch: 13/15, Train Loss: 0.003318, Train Accuracy 96.500000%\n",
      "\n",
      "Epoch: 14/15, Train Loss: 0.003188, Train Accuracy 96.700000%\n",
      "\n",
      "Epoch: 15/15, Train Loss: 0.003072, Train Accuracy 96.700000%\n",
      "\n",
      "Final accuracy: train=0.967, test=0.947\n"
     ]
    }
   ],
   "source": [
    "%run test.py"
   ]
  },
  {
   "cell_type": "code",
   "execution_count": 9,
   "metadata": {},
   "outputs": [
    {
     "name": "stdout",
     "output_type": "stream",
     "text": [
      "Using ReLU activations...\n",
      "mean=0.9694999999999998, std=0.01180889495253473 with 10 rounds\n",
      "Using Tanh activations...\n",
      "mean=0.9551000000000001, std=0.01658583733189253 with 10 rounds\n",
      "Using ReLU activations and Tanh for output layer...\n",
      "mean=0.9650000000000001, std=0.011233877335986903 with 10 rounds\n"
     ]
    }
   ],
   "source": [
    "%run test_different_architectures.py"
   ]
  }
 ],
 "metadata": {
  "kernelspec": {
   "display_name": "Python 3",
   "language": "python",
   "name": "python3"
  },
  "language_info": {
   "codemirror_mode": {
    "name": "ipython",
    "version": 3
   },
   "file_extension": ".py",
   "mimetype": "text/x-python",
   "name": "python",
   "nbconvert_exporter": "python",
   "pygments_lexer": "ipython3",
   "version": "3.8.3"
  }
 },
 "nbformat": 4,
 "nbformat_minor": 4
}