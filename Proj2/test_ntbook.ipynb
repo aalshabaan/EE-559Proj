{
 "cells": [
  {
   "cell_type": "code",
   "execution_count": 1,
   "metadata": {},
   "outputs": [],
   "source": [
    "import torch\n",
    "import math\n",
    "from utils import *\n",
    "from nn import *\n",
    "\n",
    "%load_ext autoreload\n",
    "%autoreload 2\n"
   ]
  },
  {
   "cell_type": "code",
   "execution_count": 2,
   "metadata": {},
   "outputs": [
    {
     "data": {
      "text/plain": "<torch.autograd.grad_mode.set_grad_enabled at 0x2a1ff311108>"
     },
     "execution_count": 2,
     "metadata": {},
     "output_type": "execute_result"
    }
   ],
   "source": [
    "# Disable autograd\n",
    "torch.set_grad_enabled(False)"
   ]
  },
  {
   "cell_type": "code",
   "execution_count": 3,
   "metadata": {},
   "outputs": [],
   "source": [
    "train_input, train_target = generate_disc_data()\n",
    "test_input, test_target = generate_disc_data()\n",
    "train_input, test_input = normalize(train_input, test_input)"
   ]
  },
  {
   "cell_type": "code",
   "execution_count": 47,
   "metadata": {},
   "outputs": [],
   "source": [
    "model = Sequential(Linear(2, 25), ReLU(),\n",
    "                   Linear(25, 25), ReLU(),\n",
    "                   Linear(25, 25), ReLU(),\n",
    "                   Linear(25, 1))"
   ]
  },
  {
   "cell_type": "code",
   "execution_count": 48,
   "metadata": {
    "pycharm": {
     "name": "#%%\n"
    }
   },
   "outputs": [
    {
     "name": "stdout",
     "output_type": "stream",
     "text": [
      "\n",
      "Epoch: 1/10, Train Loss: 0.002690, Train Accuracy 51.000000%\n",
      "\n",
      "Epoch: 2/10, Train Loss: 0.002434, Train Accuracy 51.600000%\n",
      "\n",
      "Epoch: 3/10, Train Loss: 0.002325, Train Accuracy 62.700000%\n",
      "\n",
      "Epoch: 4/10, Train Loss: 0.002206, Train Accuracy 72.800000%\n",
      "\n",
      "Epoch: 5/10, Train Loss: 0.002079, Train Accuracy 77.300000%\n",
      "\n",
      "Epoch: 6/10, Train Loss: 0.001929, Train Accuracy 81.400000%\n",
      "\n",
      "Epoch: 7/10, Train Loss: 0.001742, Train Accuracy 85.100000%\n",
      "\n",
      "Epoch: 8/10, Train Loss: 0.001530, Train Accuracy 88.400000%\n",
      "\n",
      "Epoch: 9/10, Train Loss: 0.001313, Train Accuracy 91.400000%\n",
      "\n",
      "Epoch: 10/10, Train Loss: 0.001112, Train Accuracy 92.400000%\n"
     ]
    }
   ],
   "source": [
    "tr_loss_list, tr_acc_list = train_model(model, \n",
    "                                        train_input, \n",
    "                                        train_target,\n",
    "                                        learning_rate=1e-1,\n",
    "                                        epochs=10, \n",
    "                                        batch_size=100,\n",
    "                                        optimizer='SGD', \n",
    "                                        loss='mse', \n",
    "                                        verbose=True, \n",
    "                                        momentum=0.0)\n"
   ]
  }
 ],
 "metadata": {
  "kernelspec": {
   "display_name": "Python 3",
   "language": "python",
   "name": "python3"
  },
  "language_info": {
   "codemirror_mode": {
    "name": "ipython",
    "version": 3
   },
   "file_extension": ".py",
   "mimetype": "text/x-python",
   "name": "python",
   "nbconvert_exporter": "python",
   "pygments_lexer": "ipython3",
   "version": "3.8.3"
  }
 },
 "nbformat": 4,
 "nbformat_minor": 4
}